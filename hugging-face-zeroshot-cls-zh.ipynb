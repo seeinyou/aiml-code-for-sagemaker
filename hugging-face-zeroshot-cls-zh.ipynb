{
 "cells": [
  {
   "cell_type": "code",
   "execution_count": 160,
   "id": "99f9fad6",
   "metadata": {},
   "outputs": [],
   "source": [
    "from sagemaker.huggingface import HuggingFaceModel\n",
    "import sagemaker\n",
    "\n",
    "role = sagemaker.get_execution_role()\n",
    "import pandas as pd"
   ]
  },
  {
   "cell_type": "code",
   "execution_count": 161,
   "id": "44cac080",
   "metadata": {},
   "outputs": [
    {
     "name": "stdout",
     "output_type": "stream",
     "text": [
      "---------!"
     ]
    }
   ],
   "source": [
    "# Hub Model configuration. https://huggingface.co/models\n",
    "# https://huggingface.co/MoritzLaurer/mDeBERTa-v3-base-mnli-xnli\n",
    "hub = {\n",
    "\t'HF_MODEL_ID':'MoritzLaurer/mDeBERTa-v3-base-mnli-xnli',\n",
    "\t'HF_TASK':'zero-shot-classification'\n",
    "}\n",
    "\n",
    "# Create Hugging Face Model Class\n",
    "huggingface_model = HuggingFaceModel(\n",
    "\ttransformers_version='4.6.1',\n",
    "\tpytorch_version='1.7.1',\n",
    "\tpy_version='py36',\n",
    "\tenv=hub,\n",
    "\trole=role, \n",
    ")\n",
    "\n",
    "# deploy model to SageMaker Inference\n",
    "predictor = huggingface_model.deploy(\n",
    "\tinitial_instance_count=1, # number of instances\n",
    "\tinstance_type='ml.p2.xlarge' # ec2 instance type - check the EC2 type capacity before execution\n",
    ")\n"
   ]
  },
  {
   "cell_type": "code",
   "execution_count": 163,
   "id": "f6456426",
   "metadata": {},
   "outputs": [],
   "source": [
    "# ##load class\n",
    "# text = pd.read_excel('AI对话活动.xlsx',engine='openpyxl')\n",
    "# candidate_labels = list(text['Unnamed: 1'])\n",
    "# #fiter nan\n",
    "# candidate_labels = [0 if str(x)=='nan' else x for x in candidate_labels]\n",
    "\n",
    "# JM - Test the model for the CX\n",
    "candidate_labels = [\"正向\", \"负向\", \"中立\"]\n",
    "print(\"CANDIDATE\", candidate_labels)"
   ]
  },
  {
   "cell_type": "code",
   "execution_count": 175,
   "id": "caaee1bb",
   "metadata": {},
   "outputs": [
    {
     "name": "stdout",
     "output_type": "stream",
     "text": [
      "CPU times: user 5 µs, sys: 0 ns, total: 5 µs\n",
      "Wall time: 8.58 µs\n"
     ]
    }
   ],
   "source": [
    "%%time\n",
    "\n",
    "def cls(input):\n",
    "    data = {\n",
    "        \"inputs\": input,\n",
    "        \"parameters\": {\n",
    "            \"candidate_labels\": candidate_labels,\n",
    "            \"hypothesis_template\": \"这个句子表示{}。\"\n",
    "        }\n",
    "    }\n",
    "    res = predictor.predict(data)\n",
    "    labels = res['labels'][0]\n",
    "    print (\"input sentence ##{}##, class ##{}##, result detail {}\".format(input,labels,res))\n",
    "    print (\"input sentence ##{}##, class ##{}##\".format(input,labels))\n",
    "    return "
   ]
  },
  {
   "cell_type": "code",
   "execution_count": 174,
   "id": "ad737052",
   "metadata": {},
   "outputs": [
    {
     "name": "stdout",
     "output_type": "stream",
     "text": [
      "input sentence ##I'm in a bad mood today##, class ##紧张##\n",
      "input sentence ##i want to watch fast and furious 9, show me an appropriate lighting effects##, class ##愤怒##\n",
      "input sentence ##I want to listen to Jay Chou's Mojito##, class ##音乐##\n",
      "input sentence ##My favorite thing to eat is an omelet##, class ##美食##\n",
      "input sentence ##Mother's Day is coming, I want to give her a present##, class ##节日##\n"
     ]
    }
   ],
   "source": [
    "inputs = [\n",
    "            \"明天会是晴天\",\n",
    "            \"明天会很冷\",\n",
    "            \"我准备去旅游\",\n",
    "            \"我在路上受伤了\",\n",
    "            \"主播真漂亮\",\n",
    "            \"主播666\",\n",
    "            \"我要刷大火箭\",\n",
    "            \"主播五音不全\"\n",
    "            \"踩踩踩\",\n",
    "            \"明天天气很热\"\n",
    "]\n",
    "\n",
    "for i in inputs:\n",
    "    cls(i)"
   ]
  },
  {
   "cell_type": "code",
   "execution_count": 176,
   "id": "1a9729af",
   "metadata": {},
   "outputs": [
    {
     "name": "stdout",
     "output_type": "stream",
     "text": [
      "input sentence ##I'm in a bad mood today##, class ##紧张##, result detail {'sequence': \"I'm in a bad mood today\", 'labels': ['紧张', '担忧', '悲伤', '愤怒', '恐惧', 0, 0, 0, 0, 0, '唤醒', '助眠', '动物', '民族', '国家', '文化', '宇宙', '运动', '历史', '建筑', '季节', '汽车', '艺术', '森林', '风景', '教育', '电视剧', '海洋', '哲学', '游戏', '电影', '音乐', '节日', '天气', '绘画', '激情', '旅行', '聚会', '美食', '兴奋', '快乐'], 'scores': [0.23698003590106964, 0.10469383746385574, 0.04708351194858551, 0.03948110342025757, 0.03617393970489502, 0.02747998759150505, 0.02747998759150505, 0.02747998759150505, 0.02747998759150505, 0.02747998759150505, 0.025057367980480194, 0.022118063643574715, 0.0203788373619318, 0.018999870866537094, 0.018522758036851883, 0.01840215176343918, 0.017946835607290268, 0.0171367060393095, 0.01710280030965805, 0.01670113578438759, 0.016263023018836975, 0.01548792328685522, 0.015042421407997608, 0.013737933710217476, 0.01355113834142685, 0.013439377769827843, 0.012115479446947575, 0.011988149955868721, 0.01168679166585207, 0.01121500413864851, 0.009905725717544556, 0.008805218152701855, 0.008471952751278877, 0.00772602716460824, 0.007711778394877911, 0.006614627316594124, 0.006288589909672737, 0.006075964774936438, 0.004557829815894365, 0.0025754545349627733, 0.0025606234557926655]}\n",
      "input sentence ##I'm in a bad mood today##, class ##紧张##\n",
      "CPU times: user 18.4 ms, sys: 0 ns, total: 18.4 ms\n",
      "Wall time: 259 ms\n"
     ]
    }
   ],
   "source": [
    "%%time\n",
    "### cpu CPU times: user 6.1 ms, sys: 0 ns, total: 6.1 ms Wall time: 2.61 s\n",
    "inputs = [ \"I'm in a bad mood today\"]\n",
    "\n",
    "for i in inputs:\n",
    "    cls(i)"
   ]
  },
  {
   "cell_type": "code",
   "execution_count": null,
   "id": "d7c0bfed",
   "metadata": {},
   "outputs": [],
   "source": []
  }
 ],
 "metadata": {
  "kernelspec": {
   "display_name": "Python 3.8.12 64-bit",
   "language": "python",
   "name": "python3"
  },
  "language_info": {
   "codemirror_mode": {
    "name": "ipython",
    "version": 3
   },
   "file_extension": ".py",
   "mimetype": "text/x-python",
   "name": "python",
   "nbconvert_exporter": "python",
   "pygments_lexer": "ipython3",
   "version": "3.9.7"
  },
  "vscode": {
   "interpreter": {
    "hash": "aee8b7b246df8f9039afb4144a1f6fd8d2ca17a180786b69acc140d282b71a49"
   }
  }
 },
 "nbformat": 4,
 "nbformat_minor": 5
}
